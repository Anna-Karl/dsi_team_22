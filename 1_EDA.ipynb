{
 "cells": [
  {
   "cell_type": "code",
   "execution_count": null,
   "metadata": {},
   "outputs": [],
   "source": [
    "# Import necessary libraries\n",
    "import numpy as np\n",
    "import pandas as pd"
   ]
  },
  {
   "cell_type": "code",
   "execution_count": null,
   "metadata": {},
   "outputs": [
    {
     "data": {
      "text/html": [
       "<div>\n",
       "<style scoped>\n",
       "    .dataframe tbody tr th:only-of-type {\n",
       "        vertical-align: middle;\n",
       "    }\n",
       "\n",
       "    .dataframe tbody tr th {\n",
       "        vertical-align: top;\n",
       "    }\n",
       "\n",
       "    .dataframe thead th {\n",
       "        text-align: right;\n",
       "    }\n",
       "</style>\n",
       "<table border=\"1\" class=\"dataframe\">\n",
       "  <thead>\n",
       "    <tr style=\"text-align: right;\">\n",
       "      <th></th>\n",
       "      <th>LOCATION</th>\n",
       "      <th>TIME</th>\n",
       "      <th>PC_HEALTHXP</th>\n",
       "      <th>PC_GDP</th>\n",
       "      <th>USD_CAP</th>\n",
       "      <th>FLAG_CODES</th>\n",
       "      <th>TOTAL_SPEND</th>\n",
       "    </tr>\n",
       "  </thead>\n",
       "  <tbody>\n",
       "    <tr>\n",
       "      <th>0</th>\n",
       "      <td>AUS</td>\n",
       "      <td>1971</td>\n",
       "      <td>15.992</td>\n",
       "      <td>0.727</td>\n",
       "      <td>35.720</td>\n",
       "      <td>NaN</td>\n",
       "      <td>462.11</td>\n",
       "    </tr>\n",
       "    <tr>\n",
       "      <th>1</th>\n",
       "      <td>AUS</td>\n",
       "      <td>1972</td>\n",
       "      <td>15.091</td>\n",
       "      <td>0.686</td>\n",
       "      <td>36.056</td>\n",
       "      <td>NaN</td>\n",
       "      <td>475.11</td>\n",
       "    </tr>\n",
       "    <tr>\n",
       "      <th>2</th>\n",
       "      <td>AUS</td>\n",
       "      <td>1973</td>\n",
       "      <td>15.117</td>\n",
       "      <td>0.681</td>\n",
       "      <td>39.871</td>\n",
       "      <td>NaN</td>\n",
       "      <td>533.47</td>\n",
       "    </tr>\n",
       "    <tr>\n",
       "      <th>3</th>\n",
       "      <td>AUS</td>\n",
       "      <td>1974</td>\n",
       "      <td>14.771</td>\n",
       "      <td>0.755</td>\n",
       "      <td>47.559</td>\n",
       "      <td>NaN</td>\n",
       "      <td>652.65</td>\n",
       "    </tr>\n",
       "    <tr>\n",
       "      <th>4</th>\n",
       "      <td>AUS</td>\n",
       "      <td>1975</td>\n",
       "      <td>11.849</td>\n",
       "      <td>0.682</td>\n",
       "      <td>47.561</td>\n",
       "      <td>NaN</td>\n",
       "      <td>660.76</td>\n",
       "    </tr>\n",
       "  </tbody>\n",
       "</table>\n",
       "</div>"
      ],
      "text/plain": [
       "  LOCATION  TIME  PC_HEALTHXP  PC_GDP  USD_CAP FLAG_CODES  TOTAL_SPEND\n",
       "0      AUS  1971       15.992   0.727   35.720        NaN       462.11\n",
       "1      AUS  1972       15.091   0.686   36.056        NaN       475.11\n",
       "2      AUS  1973       15.117   0.681   39.871        NaN       533.47\n",
       "3      AUS  1974       14.771   0.755   47.559        NaN       652.65\n",
       "4      AUS  1975       11.849   0.682   47.561        NaN       660.76"
      ]
     },
     "execution_count": 2,
     "metadata": {},
     "output_type": "execute_result"
    }
   ],
   "source": [
    "#Read the CSV file and display the first five rows\n",
    "df_file = pd.read_csv('../../dsi_team_22/data/raw/pharma_spending_data.csv')\n",
    "df_file.head()"
   ]
  },
  {
   "cell_type": "code",
   "execution_count": null,
   "metadata": {},
   "outputs": [
    {
     "name": "stdout",
     "output_type": "stream",
     "text": [
      "<class 'pandas.core.frame.DataFrame'>\n",
      "RangeIndex: 1036 entries, 0 to 1035\n",
      "Data columns (total 7 columns):\n",
      " #   Column       Non-Null Count  Dtype  \n",
      "---  ------       --------------  -----  \n",
      " 0   LOCATION     1036 non-null   object \n",
      " 1   TIME         1036 non-null   int64  \n",
      " 2   PC_HEALTHXP  1036 non-null   float64\n",
      " 3   PC_GDP       1036 non-null   float64\n",
      " 4   USD_CAP      1036 non-null   float64\n",
      " 5   FLAG_CODES   63 non-null     object \n",
      " 6   TOTAL_SPEND  1036 non-null   float64\n",
      "dtypes: float64(4), int64(1), object(2)\n",
      "memory usage: 56.8+ KB\n"
     ]
    }
   ],
   "source": [
    "#Displays summary information \n",
    "df_file.info()"
   ]
  },
  {
   "cell_type": "code",
   "execution_count": null,
   "metadata": {},
   "outputs": [
    {
     "data": {
      "text/html": [
       "<div>\n",
       "<style scoped>\n",
       "    .dataframe tbody tr th:only-of-type {\n",
       "        vertical-align: middle;\n",
       "    }\n",
       "\n",
       "    .dataframe tbody tr th {\n",
       "        vertical-align: top;\n",
       "    }\n",
       "\n",
       "    .dataframe thead th {\n",
       "        text-align: right;\n",
       "    }\n",
       "</style>\n",
       "<table border=\"1\" class=\"dataframe\">\n",
       "  <thead>\n",
       "    <tr style=\"text-align: right;\">\n",
       "      <th></th>\n",
       "      <th>TIME</th>\n",
       "      <th>PC_HEALTHXP</th>\n",
       "      <th>PC_GDP</th>\n",
       "      <th>USD_CAP</th>\n",
       "      <th>TOTAL_SPEND</th>\n",
       "    </tr>\n",
       "  </thead>\n",
       "  <tbody>\n",
       "    <tr>\n",
       "      <th>count</th>\n",
       "      <td>1036.000000</td>\n",
       "      <td>1036.000000</td>\n",
       "      <td>1036.000000</td>\n",
       "      <td>1036.000000</td>\n",
       "      <td>1036.000000</td>\n",
       "    </tr>\n",
       "    <tr>\n",
       "      <th>mean</th>\n",
       "      <td>1996.809846</td>\n",
       "      <td>16.406307</td>\n",
       "      <td>1.170948</td>\n",
       "      <td>295.046989</td>\n",
       "      <td>11765.423118</td>\n",
       "    </tr>\n",
       "    <tr>\n",
       "      <th>std</th>\n",
       "      <td>12.498330</td>\n",
       "      <td>6.389064</td>\n",
       "      <td>0.465635</td>\n",
       "      <td>209.152134</td>\n",
       "      <td>34878.286123</td>\n",
       "    </tr>\n",
       "    <tr>\n",
       "      <th>min</th>\n",
       "      <td>1970.000000</td>\n",
       "      <td>5.545000</td>\n",
       "      <td>0.207000</td>\n",
       "      <td>3.160000</td>\n",
       "      <td>6.290000</td>\n",
       "    </tr>\n",
       "    <tr>\n",
       "      <th>25%</th>\n",
       "      <td>1987.000000</td>\n",
       "      <td>11.516250</td>\n",
       "      <td>0.768250</td>\n",
       "      <td>111.098500</td>\n",
       "      <td>728.180000</td>\n",
       "    </tr>\n",
       "    <tr>\n",
       "      <th>50%</th>\n",
       "      <td>1999.000000</td>\n",
       "      <td>14.967500</td>\n",
       "      <td>1.141500</td>\n",
       "      <td>266.332000</td>\n",
       "      <td>2349.570000</td>\n",
       "    </tr>\n",
       "    <tr>\n",
       "      <th>75%</th>\n",
       "      <td>2007.000000</td>\n",
       "      <td>20.590500</td>\n",
       "      <td>1.523250</td>\n",
       "      <td>446.109500</td>\n",
       "      <td>7778.180000</td>\n",
       "    </tr>\n",
       "    <tr>\n",
       "      <th>max</th>\n",
       "      <td>2016.000000</td>\n",
       "      <td>40.239000</td>\n",
       "      <td>2.797000</td>\n",
       "      <td>1162.399000</td>\n",
       "      <td>373009.910000</td>\n",
       "    </tr>\n",
       "  </tbody>\n",
       "</table>\n",
       "</div>"
      ],
      "text/plain": [
       "              TIME  PC_HEALTHXP       PC_GDP      USD_CAP    TOTAL_SPEND\n",
       "count  1036.000000  1036.000000  1036.000000  1036.000000    1036.000000\n",
       "mean   1996.809846    16.406307     1.170948   295.046989   11765.423118\n",
       "std      12.498330     6.389064     0.465635   209.152134   34878.286123\n",
       "min    1970.000000     5.545000     0.207000     3.160000       6.290000\n",
       "25%    1987.000000    11.516250     0.768250   111.098500     728.180000\n",
       "50%    1999.000000    14.967500     1.141500   266.332000    2349.570000\n",
       "75%    2007.000000    20.590500     1.523250   446.109500    7778.180000\n",
       "max    2016.000000    40.239000     2.797000  1162.399000  373009.910000"
      ]
     },
     "execution_count": 4,
     "metadata": {},
     "output_type": "execute_result"
    }
   ],
   "source": [
    "#Display summary statistics\n",
    "df_file.describe()"
   ]
  },
  {
   "cell_type": "markdown",
   "metadata": {},
   "source": [
    "*We use ydata_profiling's ProfileReport to generate an interactive and comprehensive data analysis report quickly. It provides insights into the dataset, such as distributions, correlations, missing values, and outliers, helping to identify patterns, data quality issues, and trends without extensive manual analysis. This tool aids in understanding the structure and characteristics of the data before performing a deeper analysis*\n",
    "\n",
    "*GitHub does not support interactive plots, so some screenshots have been provided for reference. To fully explore the interactive visualizations, please run the notebook locally or on platforms like Jupyter Notebook or Google Colab*\n",
    "\n",
    "*To run the code, install the required libraries:* `pip install ydata-profiling`"
   ]
  },
  {
   "cell_type": "code",
   "execution_count": 5,
   "metadata": {},
   "outputs": [
    {
     "data": {
      "application/vnd.jupyter.widget-view+json": {
       "model_id": "f7e5bdb42e09419ba6298db2d0ad035b",
       "version_major": 2,
       "version_minor": 0
      },
      "text/plain": [
       "Summarize dataset:   0%|          | 0/5 [00:00<?, ?it/s]"
      ]
     },
     "metadata": {},
     "output_type": "display_data"
    },
    {
     "data": {
      "application/vnd.jupyter.widget-view+json": {
       "model_id": "dedbf6f6d54d46eb9046da9340696c41",
       "version_major": 2,
       "version_minor": 0
      },
      "text/plain": [
       "Generate report structure:   0%|          | 0/1 [00:00<?, ?it/s]"
      ]
     },
     "metadata": {},
     "output_type": "display_data"
    },
    {
     "data": {
      "application/vnd.jupyter.widget-view+json": {
       "model_id": "415d6aecc6ba4550943e5e8d713f7afc",
       "version_major": 2,
       "version_minor": 0
      },
      "text/plain": [
       "Render widgets:   0%|          | 0/1 [00:00<?, ?it/s]"
      ]
     },
     "metadata": {},
     "output_type": "display_data"
    },
    {
     "data": {
      "application/vnd.jupyter.widget-view+json": {
       "model_id": "dee5fa3bb5934abd92a15ea0947a7a31",
       "version_major": 2,
       "version_minor": 0
      },
      "text/plain": [
       "VBox(children=(Tab(children=(Tab(children=(GridBox(children=(VBox(children=(GridspecLayout(children=(HTML(valu…"
      ]
     },
     "metadata": {},
     "output_type": "display_data"
    }
   ],
   "source": [
    "#Generate an interactive data profiling report using ydata_profiling\n",
    "from ydata_profiling import ProfileReport\n",
    "profile = ProfileReport(df_file, title=\"Profiling Report\")\n",
    "profile.to_widgets()"
   ]
  },
  {
   "cell_type": "markdown",
   "metadata": {},
   "source": [
    "\n",
    "![Overview Profiling Report](images/PR_Overview.png)\n"
   ]
  },
  {
   "cell_type": "markdown",
   "metadata": {},
   "source": [
    "![Variables Time Profiling Report](images/PR_VariablesTime.png)"
   ]
  },
  {
   "cell_type": "markdown",
   "metadata": {},
   "source": [
    "![Variables Usd Cap Profiling Report](images/PR_VariablesUsdcap.png)"
   ]
  },
  {
   "cell_type": "markdown",
   "metadata": {},
   "source": [
    "![Alerts Profiling Report](images/PR_Alerts.png)"
   ]
  },
  {
   "cell_type": "markdown",
   "metadata": {},
   "source": [
    "![Interactions Profiling Report](images/PR_Interactions.png)"
   ]
  },
  {
   "cell_type": "markdown",
   "metadata": {},
   "source": [
    "![Correlations Profiling Report](images/PR_Correlations.png)"
   ]
  },
  {
   "cell_type": "markdown",
   "metadata": {},
   "source": [
    "![Correlations Table Profiling Report](images/PR_CorrelationsTable.png)"
   ]
  },
  {
   "cell_type": "markdown",
   "metadata": {},
   "source": [
    "![Missing Values Profiling Report](images/PR_MissingValues.png)"
   ]
  },
  {
   "cell_type": "markdown",
   "metadata": {},
   "source": [
    "*We use pandas_visual_analysis's VisualAnalysis to simplify and accelerate the data exploration process. It provides interactive and intuitive visualizations that help understand the structure, distributions, and relationships within the data. Automatically generating visual reports allows users to quickly identify trends, detect anomalies, and explore the underlying patterns in the dataset. This tool helps gain insights before diving into a more detailed analysis*\n",
    "\n",
    "*To run the code, install the required libraries by running:* `pip install pandas-visual-analysis`"
   ]
  },
  {
   "cell_type": "code",
   "execution_count": null,
   "metadata": {},
   "outputs": [
    {
     "data": {
      "text/html": [
       "<div>\n",
       "<style scoped>\n",
       "    .dataframe tbody tr th:only-of-type {\n",
       "        vertical-align: middle;\n",
       "    }\n",
       "\n",
       "    .dataframe tbody tr th {\n",
       "        vertical-align: top;\n",
       "    }\n",
       "\n",
       "    .dataframe thead th {\n",
       "        text-align: right;\n",
       "    }\n",
       "</style>\n",
       "<table border=\"1\" class=\"dataframe\">\n",
       "  <thead>\n",
       "    <tr style=\"text-align: right;\">\n",
       "      <th></th>\n",
       "      <th></th>\n",
       "      <th>PC_HEALTHXP</th>\n",
       "      <th>PC_GDP</th>\n",
       "      <th>USD_CAP</th>\n",
       "      <th>TOTAL_SPEND</th>\n",
       "    </tr>\n",
       "    <tr>\n",
       "      <th>LOCATION</th>\n",
       "      <th>TIME</th>\n",
       "      <th></th>\n",
       "      <th></th>\n",
       "      <th></th>\n",
       "      <th></th>\n",
       "    </tr>\n",
       "  </thead>\n",
       "  <tbody>\n",
       "    <tr>\n",
       "      <th rowspan=\"5\" valign=\"top\">AUS</th>\n",
       "      <th>1971</th>\n",
       "      <td>15.992</td>\n",
       "      <td>0.727</td>\n",
       "      <td>35.720</td>\n",
       "      <td>462.11</td>\n",
       "    </tr>\n",
       "    <tr>\n",
       "      <th>1972</th>\n",
       "      <td>15.091</td>\n",
       "      <td>0.686</td>\n",
       "      <td>36.056</td>\n",
       "      <td>475.11</td>\n",
       "    </tr>\n",
       "    <tr>\n",
       "      <th>1973</th>\n",
       "      <td>15.117</td>\n",
       "      <td>0.681</td>\n",
       "      <td>39.871</td>\n",
       "      <td>533.47</td>\n",
       "    </tr>\n",
       "    <tr>\n",
       "      <th>1974</th>\n",
       "      <td>14.771</td>\n",
       "      <td>0.755</td>\n",
       "      <td>47.559</td>\n",
       "      <td>652.65</td>\n",
       "    </tr>\n",
       "    <tr>\n",
       "      <th>1975</th>\n",
       "      <td>11.849</td>\n",
       "      <td>0.682</td>\n",
       "      <td>47.561</td>\n",
       "      <td>660.76</td>\n",
       "    </tr>\n",
       "    <tr>\n",
       "      <th>...</th>\n",
       "      <th>...</th>\n",
       "      <td>...</td>\n",
       "      <td>...</td>\n",
       "      <td>...</td>\n",
       "      <td>...</td>\n",
       "    </tr>\n",
       "    <tr>\n",
       "      <th rowspan=\"4\" valign=\"top\">LTU</th>\n",
       "      <th>2012</th>\n",
       "      <td>28.942</td>\n",
       "      <td>1.820</td>\n",
       "      <td>448.728</td>\n",
       "      <td>1340.70</td>\n",
       "    </tr>\n",
       "    <tr>\n",
       "      <th>2013</th>\n",
       "      <td>28.173</td>\n",
       "      <td>1.728</td>\n",
       "      <td>461.178</td>\n",
       "      <td>1364.02</td>\n",
       "    </tr>\n",
       "    <tr>\n",
       "      <th>2014</th>\n",
       "      <td>27.836</td>\n",
       "      <td>1.724</td>\n",
       "      <td>485.245</td>\n",
       "      <td>1422.92</td>\n",
       "    </tr>\n",
       "    <tr>\n",
       "      <th>2015</th>\n",
       "      <td>26.784</td>\n",
       "      <td>1.745</td>\n",
       "      <td>504.422</td>\n",
       "      <td>1465.30</td>\n",
       "    </tr>\n",
       "    <tr>\n",
       "      <th>RUS</th>\n",
       "      <th>2015</th>\n",
       "      <td>22.939</td>\n",
       "      <td>1.286</td>\n",
       "      <td>309.900</td>\n",
       "      <td>44655.62</td>\n",
       "    </tr>\n",
       "  </tbody>\n",
       "</table>\n",
       "<p>1036 rows × 4 columns</p>\n",
       "</div>"
      ],
      "text/plain": [
       "               PC_HEALTHXP  PC_GDP  USD_CAP  TOTAL_SPEND\n",
       "LOCATION TIME                                           \n",
       "AUS      1971       15.992   0.727   35.720       462.11\n",
       "         1972       15.091   0.686   36.056       475.11\n",
       "         1973       15.117   0.681   39.871       533.47\n",
       "         1974       14.771   0.755   47.559       652.65\n",
       "         1975       11.849   0.682   47.561       660.76\n",
       "...                    ...     ...      ...          ...\n",
       "LTU      2012       28.942   1.820  448.728      1340.70\n",
       "         2013       28.173   1.728  461.178      1364.02\n",
       "         2014       27.836   1.724  485.245      1422.92\n",
       "         2015       26.784   1.745  504.422      1465.30\n",
       "RUS      2015       22.939   1.286  309.900     44655.62\n",
       "\n",
       "[1036 rows x 4 columns]"
      ]
     },
     "execution_count": 6,
     "metadata": {},
     "output_type": "execute_result"
    }
   ],
   "source": [
    "#Drop column FLAG_CODES, convert datatype of column LOCATION, set multiindex for efficient access\n",
    "df_clean = df_file.drop(columns={'FLAG_CODES'}).astype({'LOCATION': 'category'}).set_index(['LOCATION', 'TIME'])\n",
    "df_clean"
   ]
  },
  {
   "cell_type": "code",
   "execution_count": 7,
   "metadata": {},
   "outputs": [
    {
     "data": {
      "application/vnd.jupyter.widget-view+json": {
       "model_id": "5719259cb1c24ca9b38c05050bfcb2a3",
       "version_major": 2,
       "version_minor": 0
      },
      "text/plain": [
       "VBox(children=(ToggleButtons(_dom_classes=('layout-7c326d6f1f904e7da8d9911b50155d23',), description='Selection…"
      ]
     },
     "metadata": {},
     "output_type": "display_data"
    }
   ],
   "source": [
    "#Create an interactive exploratory data analysis dashboard\n",
    "from pandas_visual_analysis import VisualAnalysis\n",
    "VisualAnalysis(df_clean.reset_index(), categorical_columns=[\"LOCATION\"])"
   ]
  },
  {
   "cell_type": "markdown",
   "metadata": {},
   "source": [
    "![Mean Visual Analysis](images/VA_StandartMean.png)"
   ]
  },
  {
   "cell_type": "markdown",
   "metadata": {},
   "source": [
    "![Maximum Visual Analysis](images/VA_StandartMax.png)"
   ]
  },
  {
   "cell_type": "markdown",
   "metadata": {},
   "source": [
    "![Minimum Visual Analysis](images/VA_StandartMin.png)"
   ]
  },
  {
   "cell_type": "markdown",
   "metadata": {},
   "source": [
    "![Median Visual Analysis](images/VA_StandartMedian.png)"
   ]
  },
  {
   "cell_type": "markdown",
   "metadata": {},
   "source": [
    "![1stQ Visual Analysis](images/VA_Standart1Q.png)"
   ]
  }
 ],
 "metadata": {
  "kernelspec": {
   "display_name": "dsi_participant",
   "language": "python",
   "name": "python3"
  },
  "language_info": {
   "codemirror_mode": {
    "name": "ipython",
    "version": 3
   },
   "file_extension": ".py",
   "mimetype": "text/x-python",
   "name": "python",
   "nbconvert_exporter": "python",
   "pygments_lexer": "ipython3",
   "version": "3.9.15"
  }
 },
 "nbformat": 4,
 "nbformat_minor": 2
}
