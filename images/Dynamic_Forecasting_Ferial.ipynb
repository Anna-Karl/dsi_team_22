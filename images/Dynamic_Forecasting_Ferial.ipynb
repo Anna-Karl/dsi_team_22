{
 "cells": [
  {
   "cell_type": "code",
   "execution_count": 65,
   "metadata": {},
   "outputs": [],
   "source": [
    "# Load the necessary libraries\n",
    "import pandas as pd\n",
    "import numpy as np\n",
    "import seaborn as sns\n",
    "import matplotlib.pyplot as plt\n",
    "from matplotlib.colors import ListedColormap\n",
    "from sklearn.linear_model import LinearRegression\n",
    "import statsmodels.api as sm\n",
    "\n",
    "# Load the dataset\n",
    "\n",
    "df = pd.read_csv('data/pharma_spending_data.csv')"
   ]
  },
  {
   "cell_type": "markdown",
   "metadata": {},
   "source": [
    "Visualization of the top 10 countries base on the selected factor.\n",
    "\n",
    "The Calculation is based on average for PC_HEALTHXP, average for PC_GDP, average for USD_CAP, and sum of TOTAL_SPEND for each country."
   ]
  },
  {
   "cell_type": "code",
   "execution_count": 44,
   "metadata": {},
   "outputs": [
    {
     "data": {
      "application/vnd.plotly.v1+json": {
       "config": {
        "plotlyServerURL": "https://plot.ly"
       },
       "data": [
        {
         "alignmentgroup": "True",
         "hovertemplate": "Country=%{x}<br>USD_CAP=%{text}<extra></extra>",
         "legendgroup": "",
         "marker": {
          "color": "#636efa",
          "pattern": {
           "shape": ""
          }
         },
         "name": "",
         "offsetgroup": "",
         "orientation": "v",
         "showlegend": false,
         "text": [
          958.3049090909091,
          733.0462727272727,
          720.3611,
          646.8271,
          646.7647,
          640.195909090909,
          639.653,
          622.072,
          602.8664545454545,
          574.6219090909091
         ],
         "textposition": "outside",
         "texttemplate": "%{text:.2f}",
         "type": "bar",
         "x": [
          "USA",
          "CHE",
          "CAN",
          "GRC",
          "JPN",
          "IRL",
          "DEU",
          "FRA",
          "BEL",
          "LUX"
         ],
         "xaxis": "x",
         "y": [
          958.3049090909091,
          733.0462727272727,
          720.3611,
          646.8271,
          646.7647,
          640.195909090909,
          639.653,
          622.072,
          602.8664545454545,
          574.6219090909091
         ],
         "yaxis": "y"
        }
       ],
       "layout": {
        "barmode": "relative",
        "legend": {
         "tracegroupgap": 0
        },
        "showlegend": false,
        "template": {
         "data": {
          "bar": [
           {
            "error_x": {
             "color": "#2a3f5f"
            },
            "error_y": {
             "color": "#2a3f5f"
            },
            "marker": {
             "line": {
              "color": "#E5ECF6",
              "width": 0.5
             },
             "pattern": {
              "fillmode": "overlay",
              "size": 10,
              "solidity": 0.2
             }
            },
            "type": "bar"
           }
          ],
          "barpolar": [
           {
            "marker": {
             "line": {
              "color": "#E5ECF6",
              "width": 0.5
             },
             "pattern": {
              "fillmode": "overlay",
              "size": 10,
              "solidity": 0.2
             }
            },
            "type": "barpolar"
           }
          ],
          "carpet": [
           {
            "aaxis": {
             "endlinecolor": "#2a3f5f",
             "gridcolor": "white",
             "linecolor": "white",
             "minorgridcolor": "white",
             "startlinecolor": "#2a3f5f"
            },
            "baxis": {
             "endlinecolor": "#2a3f5f",
             "gridcolor": "white",
             "linecolor": "white",
             "minorgridcolor": "white",
             "startlinecolor": "#2a3f5f"
            },
            "type": "carpet"
           }
          ],
          "choropleth": [
           {
            "colorbar": {
             "outlinewidth": 0,
             "ticks": ""
            },
            "type": "choropleth"
           }
          ],
          "contour": [
           {
            "colorbar": {
             "outlinewidth": 0,
             "ticks": ""
            },
            "colorscale": [
             [
              0,
              "#0d0887"
             ],
             [
              0.1111111111111111,
              "#46039f"
             ],
             [
              0.2222222222222222,
              "#7201a8"
             ],
             [
              0.3333333333333333,
              "#9c179e"
             ],
             [
              0.4444444444444444,
              "#bd3786"
             ],
             [
              0.5555555555555556,
              "#d8576b"
             ],
             [
              0.6666666666666666,
              "#ed7953"
             ],
             [
              0.7777777777777778,
              "#fb9f3a"
             ],
             [
              0.8888888888888888,
              "#fdca26"
             ],
             [
              1,
              "#f0f921"
             ]
            ],
            "type": "contour"
           }
          ],
          "contourcarpet": [
           {
            "colorbar": {
             "outlinewidth": 0,
             "ticks": ""
            },
            "type": "contourcarpet"
           }
          ],
          "heatmap": [
           {
            "colorbar": {
             "outlinewidth": 0,
             "ticks": ""
            },
            "colorscale": [
             [
              0,
              "#0d0887"
             ],
             [
              0.1111111111111111,
              "#46039f"
             ],
             [
              0.2222222222222222,
              "#7201a8"
             ],
             [
              0.3333333333333333,
              "#9c179e"
             ],
             [
              0.4444444444444444,
              "#bd3786"
             ],
             [
              0.5555555555555556,
              "#d8576b"
             ],
             [
              0.6666666666666666,
              "#ed7953"
             ],
             [
              0.7777777777777778,
              "#fb9f3a"
             ],
             [
              0.8888888888888888,
              "#fdca26"
             ],
             [
              1,
              "#f0f921"
             ]
            ],
            "type": "heatmap"
           }
          ],
          "heatmapgl": [
           {
            "colorbar": {
             "outlinewidth": 0,
             "ticks": ""
            },
            "colorscale": [
             [
              0,
              "#0d0887"
             ],
             [
              0.1111111111111111,
              "#46039f"
             ],
             [
              0.2222222222222222,
              "#7201a8"
             ],
             [
              0.3333333333333333,
              "#9c179e"
             ],
             [
              0.4444444444444444,
              "#bd3786"
             ],
             [
              0.5555555555555556,
              "#d8576b"
             ],
             [
              0.6666666666666666,
              "#ed7953"
             ],
             [
              0.7777777777777778,
              "#fb9f3a"
             ],
             [
              0.8888888888888888,
              "#fdca26"
             ],
             [
              1,
              "#f0f921"
             ]
            ],
            "type": "heatmapgl"
           }
          ],
          "histogram": [
           {
            "marker": {
             "pattern": {
              "fillmode": "overlay",
              "size": 10,
              "solidity": 0.2
             }
            },
            "type": "histogram"
           }
          ],
          "histogram2d": [
           {
            "colorbar": {
             "outlinewidth": 0,
             "ticks": ""
            },
            "colorscale": [
             [
              0,
              "#0d0887"
             ],
             [
              0.1111111111111111,
              "#46039f"
             ],
             [
              0.2222222222222222,
              "#7201a8"
             ],
             [
              0.3333333333333333,
              "#9c179e"
             ],
             [
              0.4444444444444444,
              "#bd3786"
             ],
             [
              0.5555555555555556,
              "#d8576b"
             ],
             [
              0.6666666666666666,
              "#ed7953"
             ],
             [
              0.7777777777777778,
              "#fb9f3a"
             ],
             [
              0.8888888888888888,
              "#fdca26"
             ],
             [
              1,
              "#f0f921"
             ]
            ],
            "type": "histogram2d"
           }
          ],
          "histogram2dcontour": [
           {
            "colorbar": {
             "outlinewidth": 0,
             "ticks": ""
            },
            "colorscale": [
             [
              0,
              "#0d0887"
             ],
             [
              0.1111111111111111,
              "#46039f"
             ],
             [
              0.2222222222222222,
              "#7201a8"
             ],
             [
              0.3333333333333333,
              "#9c179e"
             ],
             [
              0.4444444444444444,
              "#bd3786"
             ],
             [
              0.5555555555555556,
              "#d8576b"
             ],
             [
              0.6666666666666666,
              "#ed7953"
             ],
             [
              0.7777777777777778,
              "#fb9f3a"
             ],
             [
              0.8888888888888888,
              "#fdca26"
             ],
             [
              1,
              "#f0f921"
             ]
            ],
            "type": "histogram2dcontour"
           }
          ],
          "mesh3d": [
           {
            "colorbar": {
             "outlinewidth": 0,
             "ticks": ""
            },
            "type": "mesh3d"
           }
          ],
          "parcoords": [
           {
            "line": {
             "colorbar": {
              "outlinewidth": 0,
              "ticks": ""
             }
            },
            "type": "parcoords"
           }
          ],
          "pie": [
           {
            "automargin": true,
            "type": "pie"
           }
          ],
          "scatter": [
           {
            "fillpattern": {
             "fillmode": "overlay",
             "size": 10,
             "solidity": 0.2
            },
            "type": "scatter"
           }
          ],
          "scatter3d": [
           {
            "line": {
             "colorbar": {
              "outlinewidth": 0,
              "ticks": ""
             }
            },
            "marker": {
             "colorbar": {
              "outlinewidth": 0,
              "ticks": ""
             }
            },
            "type": "scatter3d"
           }
          ],
          "scattercarpet": [
           {
            "marker": {
             "colorbar": {
              "outlinewidth": 0,
              "ticks": ""
             }
            },
            "type": "scattercarpet"
           }
          ],
          "scattergeo": [
           {
            "marker": {
             "colorbar": {
              "outlinewidth": 0,
              "ticks": ""
             }
            },
            "type": "scattergeo"
           }
          ],
          "scattergl": [
           {
            "marker": {
             "colorbar": {
              "outlinewidth": 0,
              "ticks": ""
             }
            },
            "type": "scattergl"
           }
          ],
          "scattermapbox": [
           {
            "marker": {
             "colorbar": {
              "outlinewidth": 0,
              "ticks": ""
             }
            },
            "type": "scattermapbox"
           }
          ],
          "scatterpolar": [
           {
            "marker": {
             "colorbar": {
              "outlinewidth": 0,
              "ticks": ""
             }
            },
            "type": "scatterpolar"
           }
          ],
          "scatterpolargl": [
           {
            "marker": {
             "colorbar": {
              "outlinewidth": 0,
              "ticks": ""
             }
            },
            "type": "scatterpolargl"
           }
          ],
          "scatterternary": [
           {
            "marker": {
             "colorbar": {
              "outlinewidth": 0,
              "ticks": ""
             }
            },
            "type": "scatterternary"
           }
          ],
          "surface": [
           {
            "colorbar": {
             "outlinewidth": 0,
             "ticks": ""
            },
            "colorscale": [
             [
              0,
              "#0d0887"
             ],
             [
              0.1111111111111111,
              "#46039f"
             ],
             [
              0.2222222222222222,
              "#7201a8"
             ],
             [
              0.3333333333333333,
              "#9c179e"
             ],
             [
              0.4444444444444444,
              "#bd3786"
             ],
             [
              0.5555555555555556,
              "#d8576b"
             ],
             [
              0.6666666666666666,
              "#ed7953"
             ],
             [
              0.7777777777777778,
              "#fb9f3a"
             ],
             [
              0.8888888888888888,
              "#fdca26"
             ],
             [
              1,
              "#f0f921"
             ]
            ],
            "type": "surface"
           }
          ],
          "table": [
           {
            "cells": {
             "fill": {
              "color": "#EBF0F8"
             },
             "line": {
              "color": "white"
             }
            },
            "header": {
             "fill": {
              "color": "#C8D4E3"
             },
             "line": {
              "color": "white"
             }
            },
            "type": "table"
           }
          ]
         },
         "layout": {
          "annotationdefaults": {
           "arrowcolor": "#2a3f5f",
           "arrowhead": 0,
           "arrowwidth": 1
          },
          "autotypenumbers": "strict",
          "coloraxis": {
           "colorbar": {
            "outlinewidth": 0,
            "ticks": ""
           }
          },
          "colorscale": {
           "diverging": [
            [
             0,
             "#8e0152"
            ],
            [
             0.1,
             "#c51b7d"
            ],
            [
             0.2,
             "#de77ae"
            ],
            [
             0.3,
             "#f1b6da"
            ],
            [
             0.4,
             "#fde0ef"
            ],
            [
             0.5,
             "#f7f7f7"
            ],
            [
             0.6,
             "#e6f5d0"
            ],
            [
             0.7,
             "#b8e186"
            ],
            [
             0.8,
             "#7fbc41"
            ],
            [
             0.9,
             "#4d9221"
            ],
            [
             1,
             "#276419"
            ]
           ],
           "sequential": [
            [
             0,
             "#0d0887"
            ],
            [
             0.1111111111111111,
             "#46039f"
            ],
            [
             0.2222222222222222,
             "#7201a8"
            ],
            [
             0.3333333333333333,
             "#9c179e"
            ],
            [
             0.4444444444444444,
             "#bd3786"
            ],
            [
             0.5555555555555556,
             "#d8576b"
            ],
            [
             0.6666666666666666,
             "#ed7953"
            ],
            [
             0.7777777777777778,
             "#fb9f3a"
            ],
            [
             0.8888888888888888,
             "#fdca26"
            ],
            [
             1,
             "#f0f921"
            ]
           ],
           "sequentialminus": [
            [
             0,
             "#0d0887"
            ],
            [
             0.1111111111111111,
             "#46039f"
            ],
            [
             0.2222222222222222,
             "#7201a8"
            ],
            [
             0.3333333333333333,
             "#9c179e"
            ],
            [
             0.4444444444444444,
             "#bd3786"
            ],
            [
             0.5555555555555556,
             "#d8576b"
            ],
            [
             0.6666666666666666,
             "#ed7953"
            ],
            [
             0.7777777777777778,
             "#fb9f3a"
            ],
            [
             0.8888888888888888,
             "#fdca26"
            ],
            [
             1,
             "#f0f921"
            ]
           ]
          },
          "colorway": [
           "#636efa",
           "#EF553B",
           "#00cc96",
           "#ab63fa",
           "#FFA15A",
           "#19d3f3",
           "#FF6692",
           "#B6E880",
           "#FF97FF",
           "#FECB52"
          ],
          "font": {
           "color": "#2a3f5f"
          },
          "geo": {
           "bgcolor": "white",
           "lakecolor": "white",
           "landcolor": "#E5ECF6",
           "showlakes": true,
           "showland": true,
           "subunitcolor": "white"
          },
          "hoverlabel": {
           "align": "left"
          },
          "hovermode": "closest",
          "mapbox": {
           "style": "light"
          },
          "paper_bgcolor": "white",
          "plot_bgcolor": "#E5ECF6",
          "polar": {
           "angularaxis": {
            "gridcolor": "white",
            "linecolor": "white",
            "ticks": ""
           },
           "bgcolor": "#E5ECF6",
           "radialaxis": {
            "gridcolor": "white",
            "linecolor": "white",
            "ticks": ""
           }
          },
          "scene": {
           "xaxis": {
            "backgroundcolor": "#E5ECF6",
            "gridcolor": "white",
            "gridwidth": 2,
            "linecolor": "white",
            "showbackground": true,
            "ticks": "",
            "zerolinecolor": "white"
           },
           "yaxis": {
            "backgroundcolor": "#E5ECF6",
            "gridcolor": "white",
            "gridwidth": 2,
            "linecolor": "white",
            "showbackground": true,
            "ticks": "",
            "zerolinecolor": "white"
           },
           "zaxis": {
            "backgroundcolor": "#E5ECF6",
            "gridcolor": "white",
            "gridwidth": 2,
            "linecolor": "white",
            "showbackground": true,
            "ticks": "",
            "zerolinecolor": "white"
           }
          },
          "shapedefaults": {
           "line": {
            "color": "#2a3f5f"
           }
          },
          "ternary": {
           "aaxis": {
            "gridcolor": "white",
            "linecolor": "white",
            "ticks": ""
           },
           "baxis": {
            "gridcolor": "white",
            "linecolor": "white",
            "ticks": ""
           },
           "bgcolor": "#E5ECF6",
           "caxis": {
            "gridcolor": "white",
            "linecolor": "white",
            "ticks": ""
           }
          },
          "title": {
           "x": 0.05
          },
          "xaxis": {
           "automargin": true,
           "gridcolor": "white",
           "linecolor": "white",
           "ticks": "",
           "title": {
            "standoff": 15
           },
           "zerolinecolor": "white",
           "zerolinewidth": 2
          },
          "yaxis": {
           "automargin": true,
           "gridcolor": "white",
           "linecolor": "white",
           "ticks": "",
           "title": {
            "standoff": 15
           },
           "zerolinecolor": "white",
           "zerolinewidth": 2
          }
         }
        },
        "title": {
         "text": "Top 10 Countries by USD_CAP"
        },
        "xaxis": {
         "anchor": "y",
         "domain": [
          0,
          1
         ],
         "title": {
          "text": "Country"
         }
        },
        "yaxis": {
         "anchor": "x",
         "domain": [
          0,
          1
         ],
         "title": {
          "text": "USD_CAP"
         }
        }
       }
      }
     },
     "metadata": {},
     "output_type": "display_data"
    },
    {
     "data": {
      "application/vnd.jupyter.widget-view+json": {
       "model_id": "9f8d95b1ada04a5da5f86c56bf81d2ff",
       "version_major": 2,
       "version_minor": 0
      },
      "text/plain": [
       "interactive(children=(Dropdown(description='column', index=2, options=('PC_HEALTHXP', 'PC_GDP', 'USD_CAP', 'TO…"
      ]
     },
     "metadata": {},
     "output_type": "display_data"
    },
    {
     "data": {
      "text/plain": [
       "<function __main__.plot_top_10(column='USD_CAP')>"
      ]
     },
     "execution_count": 44,
     "metadata": {},
     "output_type": "execute_result"
    }
   ],
   "source": [
    "import pandas as pd\n",
    "import plotly.express as px\n",
    "from ipywidgets import interact\n",
    "\n",
    "\n",
    "# Exclude specific countries\n",
    "excluded_countries = ['RUS', 'TUR', 'GBR', 'NZL', 'ISR']\n",
    "\n",
    "# Filter data for years 2005 to 2015 based on 'TIME' as the year\n",
    "filtered_data = df[(df['TIME'] >= 2005) & (df['TIME'] <= 2015) & (~df['LOCATION'].isin(excluded_countries))]\n",
    "\n",
    "# Group by 'LOCATION' and calculate the mean for specific columns and sum for TOTAL_SPEND\n",
    "aggregated_data = filtered_data.groupby('LOCATION').agg(\n",
    "    PC_HEALTHXP=('PC_HEALTHXP', 'mean'),\n",
    "    PC_GDP=('PC_GDP', 'mean'),\n",
    "    USD_CAP=('USD_CAP', 'mean'),\n",
    "    TOTAL_SPEND=('TOTAL_SPEND', 'sum')\n",
    ")\n",
    "\n",
    "# Sort by USD_CAP to get the top 10 countries\n",
    "top_10 = aggregated_data.sort_values(by='USD_CAP', ascending=False).head(10).reset_index()\n",
    "\n",
    "# Function to plot dynamic graphs\n",
    "def plot_top_10(column='USD_CAP'):\n",
    "    fig = px.bar(\n",
    "        top_10,\n",
    "        x='LOCATION',\n",
    "        y=column,\n",
    "        title=f'Top 10 Countries by {column}',\n",
    "        labels={'LOCATION': 'Country', column: column},\n",
    "        text=column\n",
    "    )\n",
    "    fig.update_traces(texttemplate='%{text:.2f}', textposition='outside')\n",
    "    fig.update_layout(yaxis_title=column, xaxis_title='Country', showlegend=False)\n",
    "    fig.show()\n",
    "\n",
    "# Create an interactive widget for selecting columns\n",
    "interact(plot_top_10, column=['PC_HEALTHXP', 'PC_GDP', 'USD_CAP', 'TOTAL_SPEND'])\n"
   ]
  },
  {
   "cell_type": "markdown",
   "metadata": {},
   "source": [
    "Visualization of the bottom 10 countries base on the selected factor.\n",
    "\n",
    "The Calculation is based on average for PC_HEALTHXP, average for PC_GDP, average for USD_CAP, and sum of TOTAL_SPEND for each country."
   ]
  },
  {
   "cell_type": "code",
   "execution_count": 49,
   "metadata": {},
   "outputs": [
    {
     "data": {
      "application/vnd.plotly.v1+json": {
       "config": {
        "plotlyServerURL": "https://plot.ly"
       },
       "data": [
        {
         "alignmentgroup": "True",
         "hovertemplate": "Country=%{x}<br>USD_CAP=%{text}<extra></extra>",
         "legendgroup": "",
         "marker": {
          "color": "#636efa",
          "pattern": {
           "shape": ""
          }
         },
         "name": "",
         "offsetgroup": "",
         "orientation": "v",
         "showlegend": false,
         "text": [
          276.295,
          278.78363636363633,
          279.6196363636364,
          309.1264545454546,
          325.7431818181818,
          385.6832727272727,
          397.71354545454545,
          418.33845454545457,
          427.7900909090909,
          461.7430909090909
         ],
         "textposition": "outside",
         "texttemplate": "%{text:.2f}",
         "type": "bar",
         "x": [
          "EST",
          "MEX",
          "LVA",
          "POL",
          "DNK",
          "LTU",
          "CZE",
          "NOR",
          "NLD",
          "FIN"
         ],
         "xaxis": "x",
         "y": [
          276.295,
          278.78363636363633,
          279.6196363636364,
          309.1264545454546,
          325.7431818181818,
          385.6832727272727,
          397.71354545454545,
          418.33845454545457,
          427.7900909090909,
          461.7430909090909
         ],
         "yaxis": "y"
        }
       ],
       "layout": {
        "barmode": "relative",
        "legend": {
         "tracegroupgap": 0
        },
        "showlegend": false,
        "template": {
         "data": {
          "bar": [
           {
            "error_x": {
             "color": "#2a3f5f"
            },
            "error_y": {
             "color": "#2a3f5f"
            },
            "marker": {
             "line": {
              "color": "#E5ECF6",
              "width": 0.5
             },
             "pattern": {
              "fillmode": "overlay",
              "size": 10,
              "solidity": 0.2
             }
            },
            "type": "bar"
           }
          ],
          "barpolar": [
           {
            "marker": {
             "line": {
              "color": "#E5ECF6",
              "width": 0.5
             },
             "pattern": {
              "fillmode": "overlay",
              "size": 10,
              "solidity": 0.2
             }
            },
            "type": "barpolar"
           }
          ],
          "carpet": [
           {
            "aaxis": {
             "endlinecolor": "#2a3f5f",
             "gridcolor": "white",
             "linecolor": "white",
             "minorgridcolor": "white",
             "startlinecolor": "#2a3f5f"
            },
            "baxis": {
             "endlinecolor": "#2a3f5f",
             "gridcolor": "white",
             "linecolor": "white",
             "minorgridcolor": "white",
             "startlinecolor": "#2a3f5f"
            },
            "type": "carpet"
           }
          ],
          "choropleth": [
           {
            "colorbar": {
             "outlinewidth": 0,
             "ticks": ""
            },
            "type": "choropleth"
           }
          ],
          "contour": [
           {
            "colorbar": {
             "outlinewidth": 0,
             "ticks": ""
            },
            "colorscale": [
             [
              0,
              "#0d0887"
             ],
             [
              0.1111111111111111,
              "#46039f"
             ],
             [
              0.2222222222222222,
              "#7201a8"
             ],
             [
              0.3333333333333333,
              "#9c179e"
             ],
             [
              0.4444444444444444,
              "#bd3786"
             ],
             [
              0.5555555555555556,
              "#d8576b"
             ],
             [
              0.6666666666666666,
              "#ed7953"
             ],
             [
              0.7777777777777778,
              "#fb9f3a"
             ],
             [
              0.8888888888888888,
              "#fdca26"
             ],
             [
              1,
              "#f0f921"
             ]
            ],
            "type": "contour"
           }
          ],
          "contourcarpet": [
           {
            "colorbar": {
             "outlinewidth": 0,
             "ticks": ""
            },
            "type": "contourcarpet"
           }
          ],
          "heatmap": [
           {
            "colorbar": {
             "outlinewidth": 0,
             "ticks": ""
            },
            "colorscale": [
             [
              0,
              "#0d0887"
             ],
             [
              0.1111111111111111,
              "#46039f"
             ],
             [
              0.2222222222222222,
              "#7201a8"
             ],
             [
              0.3333333333333333,
              "#9c179e"
             ],
             [
              0.4444444444444444,
              "#bd3786"
             ],
             [
              0.5555555555555556,
              "#d8576b"
             ],
             [
              0.6666666666666666,
              "#ed7953"
             ],
             [
              0.7777777777777778,
              "#fb9f3a"
             ],
             [
              0.8888888888888888,
              "#fdca26"
             ],
             [
              1,
              "#f0f921"
             ]
            ],
            "type": "heatmap"
           }
          ],
          "heatmapgl": [
           {
            "colorbar": {
             "outlinewidth": 0,
             "ticks": ""
            },
            "colorscale": [
             [
              0,
              "#0d0887"
             ],
             [
              0.1111111111111111,
              "#46039f"
             ],
             [
              0.2222222222222222,
              "#7201a8"
             ],
             [
              0.3333333333333333,
              "#9c179e"
             ],
             [
              0.4444444444444444,
              "#bd3786"
             ],
             [
              0.5555555555555556,
              "#d8576b"
             ],
             [
              0.6666666666666666,
              "#ed7953"
             ],
             [
              0.7777777777777778,
              "#fb9f3a"
             ],
             [
              0.8888888888888888,
              "#fdca26"
             ],
             [
              1,
              "#f0f921"
             ]
            ],
            "type": "heatmapgl"
           }
          ],
          "histogram": [
           {
            "marker": {
             "pattern": {
              "fillmode": "overlay",
              "size": 10,
              "solidity": 0.2
             }
            },
            "type": "histogram"
           }
          ],
          "histogram2d": [
           {
            "colorbar": {
             "outlinewidth": 0,
             "ticks": ""
            },
            "colorscale": [
             [
              0,
              "#0d0887"
             ],
             [
              0.1111111111111111,
              "#46039f"
             ],
             [
              0.2222222222222222,
              "#7201a8"
             ],
             [
              0.3333333333333333,
              "#9c179e"
             ],
             [
              0.4444444444444444,
              "#bd3786"
             ],
             [
              0.5555555555555556,
              "#d8576b"
             ],
             [
              0.6666666666666666,
              "#ed7953"
             ],
             [
              0.7777777777777778,
              "#fb9f3a"
             ],
             [
              0.8888888888888888,
              "#fdca26"
             ],
             [
              1,
              "#f0f921"
             ]
            ],
            "type": "histogram2d"
           }
          ],
          "histogram2dcontour": [
           {
            "colorbar": {
             "outlinewidth": 0,
             "ticks": ""
            },
            "colorscale": [
             [
              0,
              "#0d0887"
             ],
             [
              0.1111111111111111,
              "#46039f"
             ],
             [
              0.2222222222222222,
              "#7201a8"
             ],
             [
              0.3333333333333333,
              "#9c179e"
             ],
             [
              0.4444444444444444,
              "#bd3786"
             ],
             [
              0.5555555555555556,
              "#d8576b"
             ],
             [
              0.6666666666666666,
              "#ed7953"
             ],
             [
              0.7777777777777778,
              "#fb9f3a"
             ],
             [
              0.8888888888888888,
              "#fdca26"
             ],
             [
              1,
              "#f0f921"
             ]
            ],
            "type": "histogram2dcontour"
           }
          ],
          "mesh3d": [
           {
            "colorbar": {
             "outlinewidth": 0,
             "ticks": ""
            },
            "type": "mesh3d"
           }
          ],
          "parcoords": [
           {
            "line": {
             "colorbar": {
              "outlinewidth": 0,
              "ticks": ""
             }
            },
            "type": "parcoords"
           }
          ],
          "pie": [
           {
            "automargin": true,
            "type": "pie"
           }
          ],
          "scatter": [
           {
            "fillpattern": {
             "fillmode": "overlay",
             "size": 10,
             "solidity": 0.2
            },
            "type": "scatter"
           }
          ],
          "scatter3d": [
           {
            "line": {
             "colorbar": {
              "outlinewidth": 0,
              "ticks": ""
             }
            },
            "marker": {
             "colorbar": {
              "outlinewidth": 0,
              "ticks": ""
             }
            },
            "type": "scatter3d"
           }
          ],
          "scattercarpet": [
           {
            "marker": {
             "colorbar": {
              "outlinewidth": 0,
              "ticks": ""
             }
            },
            "type": "scattercarpet"
           }
          ],
          "scattergeo": [
           {
            "marker": {
             "colorbar": {
              "outlinewidth": 0,
              "ticks": ""
             }
            },
            "type": "scattergeo"
           }
          ],
          "scattergl": [
           {
            "marker": {
             "colorbar": {
              "outlinewidth": 0,
              "ticks": ""
             }
            },
            "type": "scattergl"
           }
          ],
          "scattermapbox": [
           {
            "marker": {
             "colorbar": {
              "outlinewidth": 0,
              "ticks": ""
             }
            },
            "type": "scattermapbox"
           }
          ],
          "scatterpolar": [
           {
            "marker": {
             "colorbar": {
              "outlinewidth": 0,
              "ticks": ""
             }
            },
            "type": "scatterpolar"
           }
          ],
          "scatterpolargl": [
           {
            "marker": {
             "colorbar": {
              "outlinewidth": 0,
              "ticks": ""
             }
            },
            "type": "scatterpolargl"
           }
          ],
          "scatterternary": [
           {
            "marker": {
             "colorbar": {
              "outlinewidth": 0,
              "ticks": ""
             }
            },
            "type": "scatterternary"
           }
          ],
          "surface": [
           {
            "colorbar": {
             "outlinewidth": 0,
             "ticks": ""
            },
            "colorscale": [
             [
              0,
              "#0d0887"
             ],
             [
              0.1111111111111111,
              "#46039f"
             ],
             [
              0.2222222222222222,
              "#7201a8"
             ],
             [
              0.3333333333333333,
              "#9c179e"
             ],
             [
              0.4444444444444444,
              "#bd3786"
             ],
             [
              0.5555555555555556,
              "#d8576b"
             ],
             [
              0.6666666666666666,
              "#ed7953"
             ],
             [
              0.7777777777777778,
              "#fb9f3a"
             ],
             [
              0.8888888888888888,
              "#fdca26"
             ],
             [
              1,
              "#f0f921"
             ]
            ],
            "type": "surface"
           }
          ],
          "table": [
           {
            "cells": {
             "fill": {
              "color": "#EBF0F8"
             },
             "line": {
              "color": "white"
             }
            },
            "header": {
             "fill": {
              "color": "#C8D4E3"
             },
             "line": {
              "color": "white"
             }
            },
            "type": "table"
           }
          ]
         },
         "layout": {
          "annotationdefaults": {
           "arrowcolor": "#2a3f5f",
           "arrowhead": 0,
           "arrowwidth": 1
          },
          "autotypenumbers": "strict",
          "coloraxis": {
           "colorbar": {
            "outlinewidth": 0,
            "ticks": ""
           }
          },
          "colorscale": {
           "diverging": [
            [
             0,
             "#8e0152"
            ],
            [
             0.1,
             "#c51b7d"
            ],
            [
             0.2,
             "#de77ae"
            ],
            [
             0.3,
             "#f1b6da"
            ],
            [
             0.4,
             "#fde0ef"
            ],
            [
             0.5,
             "#f7f7f7"
            ],
            [
             0.6,
             "#e6f5d0"
            ],
            [
             0.7,
             "#b8e186"
            ],
            [
             0.8,
             "#7fbc41"
            ],
            [
             0.9,
             "#4d9221"
            ],
            [
             1,
             "#276419"
            ]
           ],
           "sequential": [
            [
             0,
             "#0d0887"
            ],
            [
             0.1111111111111111,
             "#46039f"
            ],
            [
             0.2222222222222222,
             "#7201a8"
            ],
            [
             0.3333333333333333,
             "#9c179e"
            ],
            [
             0.4444444444444444,
             "#bd3786"
            ],
            [
             0.5555555555555556,
             "#d8576b"
            ],
            [
             0.6666666666666666,
             "#ed7953"
            ],
            [
             0.7777777777777778,
             "#fb9f3a"
            ],
            [
             0.8888888888888888,
             "#fdca26"
            ],
            [
             1,
             "#f0f921"
            ]
           ],
           "sequentialminus": [
            [
             0,
             "#0d0887"
            ],
            [
             0.1111111111111111,
             "#46039f"
            ],
            [
             0.2222222222222222,
             "#7201a8"
            ],
            [
             0.3333333333333333,
             "#9c179e"
            ],
            [
             0.4444444444444444,
             "#bd3786"
            ],
            [
             0.5555555555555556,
             "#d8576b"
            ],
            [
             0.6666666666666666,
             "#ed7953"
            ],
            [
             0.7777777777777778,
             "#fb9f3a"
            ],
            [
             0.8888888888888888,
             "#fdca26"
            ],
            [
             1,
             "#f0f921"
            ]
           ]
          },
          "colorway": [
           "#636efa",
           "#EF553B",
           "#00cc96",
           "#ab63fa",
           "#FFA15A",
           "#19d3f3",
           "#FF6692",
           "#B6E880",
           "#FF97FF",
           "#FECB52"
          ],
          "font": {
           "color": "#2a3f5f"
          },
          "geo": {
           "bgcolor": "white",
           "lakecolor": "white",
           "landcolor": "#E5ECF6",
           "showlakes": true,
           "showland": true,
           "subunitcolor": "white"
          },
          "hoverlabel": {
           "align": "left"
          },
          "hovermode": "closest",
          "mapbox": {
           "style": "light"
          },
          "paper_bgcolor": "white",
          "plot_bgcolor": "#E5ECF6",
          "polar": {
           "angularaxis": {
            "gridcolor": "white",
            "linecolor": "white",
            "ticks": ""
           },
           "bgcolor": "#E5ECF6",
           "radialaxis": {
            "gridcolor": "white",
            "linecolor": "white",
            "ticks": ""
           }
          },
          "scene": {
           "xaxis": {
            "backgroundcolor": "#E5ECF6",
            "gridcolor": "white",
            "gridwidth": 2,
            "linecolor": "white",
            "showbackground": true,
            "ticks": "",
            "zerolinecolor": "white"
           },
           "yaxis": {
            "backgroundcolor": "#E5ECF6",
            "gridcolor": "white",
            "gridwidth": 2,
            "linecolor": "white",
            "showbackground": true,
            "ticks": "",
            "zerolinecolor": "white"
           },
           "zaxis": {
            "backgroundcolor": "#E5ECF6",
            "gridcolor": "white",
            "gridwidth": 2,
            "linecolor": "white",
            "showbackground": true,
            "ticks": "",
            "zerolinecolor": "white"
           }
          },
          "shapedefaults": {
           "line": {
            "color": "#2a3f5f"
           }
          },
          "ternary": {
           "aaxis": {
            "gridcolor": "white",
            "linecolor": "white",
            "ticks": ""
           },
           "baxis": {
            "gridcolor": "white",
            "linecolor": "white",
            "ticks": ""
           },
           "bgcolor": "#E5ECF6",
           "caxis": {
            "gridcolor": "white",
            "linecolor": "white",
            "ticks": ""
           }
          },
          "title": {
           "x": 0.05
          },
          "xaxis": {
           "automargin": true,
           "gridcolor": "white",
           "linecolor": "white",
           "ticks": "",
           "title": {
            "standoff": 15
           },
           "zerolinecolor": "white",
           "zerolinewidth": 2
          },
          "yaxis": {
           "automargin": true,
           "gridcolor": "white",
           "linecolor": "white",
           "ticks": "",
           "title": {
            "standoff": 15
           },
           "zerolinecolor": "white",
           "zerolinewidth": 2
          }
         }
        },
        "title": {
         "text": "Bottom 10 Countries by USD_CAP"
        },
        "xaxis": {
         "anchor": "y",
         "domain": [
          0,
          1
         ],
         "title": {
          "text": "Country"
         }
        },
        "yaxis": {
         "anchor": "x",
         "domain": [
          0,
          1
         ],
         "title": {
          "text": "USD_CAP"
         }
        }
       }
      }
     },
     "metadata": {},
     "output_type": "display_data"
    },
    {
     "data": {
      "application/vnd.jupyter.widget-view+json": {
       "model_id": "7047875878014dc7996fe4d617c957f7",
       "version_major": 2,
       "version_minor": 0
      },
      "text/plain": [
       "interactive(children=(Dropdown(description='column', index=2, options=('PC_HEALTHXP', 'PC_GDP', 'USD_CAP', 'TO…"
      ]
     },
     "metadata": {},
     "output_type": "display_data"
    },
    {
     "data": {
      "text/plain": [
       "<function __main__.plot_bottom_10(column='USD_CAP')>"
      ]
     },
     "execution_count": 49,
     "metadata": {},
     "output_type": "execute_result"
    }
   ],
   "source": [
    "import pandas as pd\n",
    "import plotly.express as px\n",
    "from ipywidgets import interact\n",
    "\n",
    "\n",
    "# Exclude specific countries\n",
    "excluded_countries = ['RUS', 'TUR', 'GBR', 'NZL', 'ISR']\n",
    "\n",
    "# Filter data for years 2005 to 2015 based on 'TIME' as the year\n",
    "filtered_data = df[(df['TIME'] >= 2005) & (df['TIME'] <= 2015) & (~df['LOCATION'].isin(excluded_countries))]\n",
    "\n",
    "# Group by 'LOCATION' and calculate the mean for specific columns and sum for TOTAL_SPEND\n",
    "aggregated_data = filtered_data.groupby('LOCATION').agg(\n",
    "    PC_HEALTHXP=('PC_HEALTHXP', 'mean'),\n",
    "    PC_GDP=('PC_GDP', 'mean'),\n",
    "    USD_CAP=('USD_CAP', 'mean'),\n",
    "    TOTAL_SPEND=('TOTAL_SPEND', 'sum')\n",
    ")\n",
    "\n",
    "# Function to plot bottom 10 countries\n",
    "def plot_bottom_10(column='USD_CAP'):\n",
    "    # Sort by USD_CAP in ascending order to get the bottom 10 countries\n",
    "    bottom_10 = aggregated_data.sort_values(by='USD_CAP', ascending=True).head(10).reset_index()\n",
    "    \n",
    "    fig = px.bar(\n",
    "        bottom_10,\n",
    "        x='LOCATION',\n",
    "        y=column,\n",
    "        title=f'Bottom 10 Countries by {column}',\n",
    "        labels={'LOCATION': 'Country', column: column},\n",
    "        text=column\n",
    "    )\n",
    "    fig.update_traces(texttemplate='%{text:.2f}', textposition='outside')\n",
    "    fig.update_layout(yaxis_title=column, xaxis_title='Country', showlegend=False)\n",
    "    fig.show()\n",
    "\n",
    "# Create an interactive widget for selecting columns for bottom 10\n",
    "interact(plot_bottom_10, column=['PC_HEALTHXP', 'PC_GDP', 'USD_CAP', 'TOTAL_SPEND'])"
   ]
  },
  {
   "cell_type": "markdown",
   "metadata": {},
   "source": [
    "Dynamic visualization showing the trend for each of the top 10 countries based on the selected factor."
   ]
  },
  {
   "cell_type": "code",
   "execution_count": 66,
   "metadata": {},
   "outputs": [
    {
     "data": {
      "text/html": [
       "\n",
       "        <iframe\n",
       "            width=\"100%\"\n",
       "            height=\"650\"\n",
       "            src=\"http://127.0.0.1:8060/\"\n",
       "            frameborder=\"0\"\n",
       "            allowfullscreen\n",
       "            \n",
       "        ></iframe>\n",
       "        "
      ],
      "text/plain": [
       "<IPython.lib.display.IFrame at 0x236b1b64ee0>"
      ]
     },
     "metadata": {},
     "output_type": "display_data"
    }
   ],
   "source": [
    "import pandas as pd\n",
    "import plotly.express as px\n",
    "import dash\n",
    "from dash import dcc, html\n",
    "from dash.dependencies import Input, Output\n",
    "\n",
    "# Exclude specific countries\n",
    "excluded_countries = ['RUS', 'TUR', 'GBR', 'NZL', 'ISR']\n",
    "\n",
    "# Assuming 'TIME' is already numeric, filter data for years 2005 to 2015 and exclude specified countries\n",
    "df_filtered = df[(df['TIME'] >= 2005) & (df['TIME'] <= 2015) & (~df['LOCATION'].isin(excluded_countries))]\n",
    "\n",
    "# Group by LOCATION and calculate the mean for relevant columns\n",
    "aggregated_data = df_filtered.groupby('LOCATION').agg(\n",
    "    PC_HEALTHXP=('PC_HEALTHXP', 'mean'),\n",
    "    PC_GDP=('PC_GDP', 'mean'),\n",
    "    USD_CAP=('USD_CAP', 'mean'),\n",
    "    TOTAL_SPEND=('TOTAL_SPEND', 'sum')\n",
    ").reset_index()\n",
    "\n",
    "# Initialize Dash app\n",
    "app = dash.Dash(__name__)\n",
    "\n",
    "# Layout for the Dash app\n",
    "app.layout = html.Div([\n",
    "    html.H1(\"Dynamic Plot for Countries Analysis\", style={'textAlign': 'center'}),\n",
    "\n",
    "    # Radio buttons to select Top 10 or Bottom 10 countries\n",
    "    html.Label(\"Select Range:\"),\n",
    "    dcc.RadioItems(\n",
    "        id='range-selector',\n",
    "        options=[\n",
    "            {'label': 'Top 10', 'value': 'top'},\n",
    "            {'label': 'Bottom 10', 'value': 'bottom'}\n",
    "        ],\n",
    "        value='top',  # default selection\n",
    "        inline=True\n",
    "    ),\n",
    "\n",
    "    # Dropdown for selecting column to plot\n",
    "    html.Label(\"Select Column to Plot:\"),\n",
    "    dcc.Dropdown(\n",
    "        id='column-dropdown',\n",
    "        options=[\n",
    "            {'label': 'PC_HEALTHXP', 'value': 'PC_HEALTHXP'},\n",
    "            {'label': 'PC_GDP', 'value': 'PC_GDP'},\n",
    "            {'label': 'USD_CAP', 'value': 'USD_CAP'},\n",
    "            {'label': 'TOTAL_SPEND', 'value': 'TOTAL_SPEND'}\n",
    "        ],\n",
    "        value='USD_CAP'  # default column\n",
    "    ),\n",
    "\n",
    "    # Dropdown for selecting country\n",
    "    html.Label(\"Select Country:\"),\n",
    "    dcc.Dropdown(id='country-dropdown', value=None),\n",
    "\n",
    "    # Graph to display the plot\n",
    "    dcc.Graph(id='dynamic-plot')\n",
    "])\n",
    "\n",
    "# Callback to update the country dropdown based on the selected range (Top/Bottom 10)\n",
    "@app.callback(\n",
    "    Output('country-dropdown', 'options'),\n",
    "    Output('country-dropdown', 'value'),\n",
    "    Input('range-selector', 'value')\n",
    ")\n",
    "def update_country_dropdown(selected_range):\n",
    "    # Sort data and get the relevant range\n",
    "    if selected_range == 'top':\n",
    "        filtered_countries = aggregated_data.sort_values(by='USD_CAP', ascending=False).head(10)\n",
    "    else:\n",
    "        filtered_countries = aggregated_data.sort_values(by='USD_CAP', ascending=True).head(10)\n",
    "\n",
    "    # Update the country dropdown options and default value\n",
    "    options = [{'label': country, 'value': country} for country in filtered_countries['LOCATION'].tolist()]\n",
    "    value = options[0]['value'] if options else None\n",
    "    return options, value\n",
    "\n",
    "# Callback to update the plot based on selected country and column\n",
    "@app.callback(\n",
    "    Output('dynamic-plot', 'figure'),\n",
    "    [Input('country-dropdown', 'value'),\n",
    "     Input('column-dropdown', 'value')]\n",
    ")\n",
    "def update_plot(country, column):\n",
    "    # Check if a valid country is selected\n",
    "    if not country:\n",
    "        return px.scatter(title=\"No data available\")\n",
    "\n",
    "    # Filter the data for the selected country\n",
    "    country_data = df_filtered[df_filtered['LOCATION'] == country]\n",
    "\n",
    "    # Create the plot for the selected column\n",
    "    fig = px.line(\n",
    "        country_data,\n",
    "        x='TIME',\n",
    "        y=column,\n",
    "        title=f'{column} for {country} Over Time',\n",
    "        markers=True\n",
    "    )\n",
    "\n",
    "    # Update layout for the plot\n",
    "    fig.update_layout(\n",
    "        xaxis_title=\"Year\",\n",
    "        yaxis_title=column,\n",
    "        showlegend=False\n",
    "    )\n",
    "    return fig\n",
    "\n",
    "# Run the Dash app\n",
    "if __name__ == '__main__':\n",
    "    app.run_server(debug=True, port=8060)  # Change port to 8060 (or any other available port)\n"
   ]
  },
  {
   "cell_type": "markdown",
   "metadata": {},
   "source": [
    "Dynamic visualization showing the trend for each of the bottom 10 countries based on the selected factor."
   ]
  },
  {
   "cell_type": "markdown",
   "metadata": {},
   "source": [
    "Forecasting based on Linear Regression and create a dynamic visualization"
   ]
  },
  {
   "cell_type": "code",
   "execution_count": 67,
   "metadata": {},
   "outputs": [
    {
     "data": {
      "application/vnd.jupyter.widget-view+json": {
       "model_id": "164b20d1a9b14c938171438c961306f2",
       "version_major": 2,
       "version_minor": 0
      },
      "text/plain": [
       "interactive(children=(Dropdown(description='Location:', options=('AUS', 'AUT', 'BEL', 'CAN', 'CZE', 'DNK', 'FI…"
      ]
     },
     "metadata": {},
     "output_type": "display_data"
    },
    {
     "data": {
      "text/plain": [
       "<function __main__.forecast_for_location(selected_location, selected_column)>"
      ]
     },
     "execution_count": 67,
     "metadata": {},
     "output_type": "execute_result"
    }
   ],
   "source": [
    "import pandas as pd\n",
    "import numpy as np\n",
    "import matplotlib.pyplot as plt\n",
    "from sklearn.linear_model import LinearRegression\n",
    "import ipywidgets as widgets\n",
    "from ipywidgets import interact\n",
    "\n",
    "# Clean column names (remove leading/trailing spaces if any)\n",
    "df.columns = df.columns.str.strip()\n",
    "\n",
    "# Exclude specific countries\n",
    "excluded_countries = ['RUS', 'TUR', 'GBR', 'NZL', 'ISR']\n",
    "locations = df[~df['LOCATION'].isin(excluded_countries)]['LOCATION'].unique()\n",
    "\n",
    "# Convert TIME to integer year if it's in datetime format\n",
    "if np.issubdtype(df['TIME'].dtype, np.datetime64):\n",
    "    df['TIME'] = df['TIME'].dt.year\n",
    "\n",
    "# Dropdown for selecting the column (you can add more columns if needed)\n",
    "columns = ['TOTAL_SPEND', 'PC_HEALTHXP', 'PC_GDP', 'USD_CAP']\n",
    "\n",
    "# Forecasting function for the selected location and column\n",
    "def forecast_for_location(selected_location, selected_column):\n",
    "    # Filter data for the selected location and time range (2005-2015)\n",
    "    country_data = df[(df['LOCATION'] == selected_location) & (df['TIME'] >= 2005) & (df['TIME'] <= 2015)]\n",
    "    \n",
    "    # Features (X) are the years (TIME), target (y) is the selected column\n",
    "    X = country_data[['TIME']]  # Independent variable (time)\n",
    "    y = country_data[selected_column]  # Dependent variable (selected column)\n",
    "    \n",
    "    # Train the linear regression model\n",
    "    model = LinearRegression()\n",
    "    model.fit(X, y)\n",
    "    \n",
    "    # Predict for 2016 and 2017\n",
    "    prediction_2016 = model.predict(np.array([[2016]]))  # Predict for 2016\n",
    "    prediction_2017 = model.predict(np.array([[2017]]))  # Predict for 2017\n",
    "    \n",
    "    # Plotting the results\n",
    "    plt.figure(figsize=(12, 6))\n",
    "    \n",
    "    # Plot the actual data points for the selected country\n",
    "    plt.plot(country_data['TIME'], country_data[selected_column], label=f\"{selected_location} (Actual)\", marker='o', color='blue')\n",
    "    \n",
    "    # Plot the predictions for 2016 and 2017\n",
    "    plt.scatter(2016, prediction_2016, color='red', label='Prediction 2016')\n",
    "    plt.scatter(2017, prediction_2017, color='green', label='Prediction 2017')\n",
    "    \n",
    "    # Customize the plot\n",
    "    plt.title(f'{selected_location} Forecast for {selected_column} (2005-2015)')\n",
    "    plt.xlabel('Year')\n",
    "    plt.ylabel(f'{selected_column} Value')\n",
    "    plt.legend(loc='upper left')\n",
    "    plt.grid(True)\n",
    "    \n",
    "    # Show the plot\n",
    "    plt.show()\n",
    "\n",
    "# Create dropdown widgets for selecting country and column\n",
    "location_dropdown = widgets.Dropdown(\n",
    "    options=locations,\n",
    "    description='Location:',\n",
    "    value=locations[0]  # Default value\n",
    ")\n",
    "\n",
    "column_dropdown = widgets.Dropdown(\n",
    "    options=columns,\n",
    "    description='Column:',\n",
    "    value='TOTAL_SPEND'  # Default value\n",
    ")\n",
    "\n",
    "# Use interact to link the dropdown selections to the forecasting and plotting function\n",
    "interact(forecast_for_location, selected_location=location_dropdown, selected_column=column_dropdown)\n"
   ]
  },
  {
   "cell_type": "markdown",
   "metadata": {},
   "source": [
    "The method of prediction in the provided code uses Facebook Prophet, a powerful open-source forecasting tool designed for time series data. It is particularly effective when your data exhibits patterns like seasonality, trends, or irregular intervals.\n",
    "\n",
    "How Prophet Works:\n",
    "\n",
    "Prophet is based on an additive model where the time series data is decomposed into three main components:\n",
    "\n",
    "Trend: Captures the overall increase or decrease in the data over time.\n",
    "\n",
    "For example, steady growth in sales over years.\n",
    "Prophet models this with either a linear or logistic growth curve.\n",
    "\n",
    "Seasonality: Accounts for repeating patterns at regular intervals.\n",
    "\n",
    "For example, spikes in ice cream sales during summer months.\n",
    "Prophet detects and includes yearly, weekly, or custom seasonalities.\n",
    "\n",
    "Holidays or Events (Optional): Allows for the inclusion of external factors that impact data temporarily.\n",
    "\n",
    "For example, sales spikes during Black Friday or Christmas.\n",
    "The model forecasts future values by extending the trend component while accounting for seasonality and any included events. Confidence intervals are calculated using Monte Carlo simulations to represent the uncertainty of predictions.\n",
    "\n",
    "Why Prophet for This Task?\n",
    "\n",
    "Automatic Seasonality Detection: Prophet automatically identifies yearly or weekly cycles in the data, which is useful when you have data like spending trends.\n",
    "\n",
    "Handles Missing Data: Prophet can deal with missing or irregular data, which is common in real-world datasets.\n",
    "\n",
    "Confidence Intervals: It provides predictions with uncertainty bounds (e.g., upper and lower confidence intervals), helping to assess the reliability of forecasts.\n",
    "\n",
    "Ease of Use: Minimal configuration is required, making it accessible for quick forecasting."
   ]
  },
  {
   "cell_type": "code",
   "execution_count": null,
   "metadata": {},
   "outputs": [
    {
     "data": {
      "text/html": [
       "\n",
       "        <iframe\n",
       "            width=\"100%\"\n",
       "            height=\"650\"\n",
       "            src=\"http://127.0.0.1:8080/\"\n",
       "            frameborder=\"0\"\n",
       "            allowfullscreen\n",
       "            \n",
       "        ></iframe>\n",
       "        "
      ],
      "text/plain": [
       "<IPython.lib.display.IFrame at 0x236b4c670d0>"
      ]
     },
     "metadata": {},
     "output_type": "display_data"
    },
    {
     "name": "stderr",
     "output_type": "stream",
     "text": [
      "12:29:58 - cmdstanpy - INFO - Chain [1] start processing\n",
      "12:29:59 - cmdstanpy - INFO - Chain [1] done processing\n",
      "c:\\Users\\khali\\miniconda3\\envs\\dsi_participant\\lib\\site-packages\\prophet\\forecaster.py:1854: FutureWarning:\n",
      "\n",
      "'Y' is deprecated and will be removed in a future version, please use 'YE' instead.\n",
      "\n",
      "12:30:05 - cmdstanpy - INFO - Chain [1] start processing\n",
      "12:30:05 - cmdstanpy - INFO - Chain [1] done processing\n",
      "c:\\Users\\khali\\miniconda3\\envs\\dsi_participant\\lib\\site-packages\\prophet\\forecaster.py:1854: FutureWarning:\n",
      "\n",
      "'Y' is deprecated and will be removed in a future version, please use 'YE' instead.\n",
      "\n",
      "12:30:08 - cmdstanpy - INFO - Chain [1] start processing\n",
      "12:30:13 - cmdstanpy - INFO - Chain [1] done processing\n",
      "c:\\Users\\khali\\miniconda3\\envs\\dsi_participant\\lib\\site-packages\\prophet\\forecaster.py:1854: FutureWarning:\n",
      "\n",
      "'Y' is deprecated and will be removed in a future version, please use 'YE' instead.\n",
      "\n",
      "12:30:15 - cmdstanpy - INFO - Chain [1] start processing\n",
      "12:30:16 - cmdstanpy - INFO - Chain [1] done processing\n",
      "c:\\Users\\khali\\miniconda3\\envs\\dsi_participant\\lib\\site-packages\\prophet\\forecaster.py:1854: FutureWarning:\n",
      "\n",
      "'Y' is deprecated and will be removed in a future version, please use 'YE' instead.\n",
      "\n"
     ]
    }
   ],
   "source": [
    "import dash\n",
    "from dash import dcc, html, Input, Output\n",
    "from prophet import Prophet\n",
    "import pandas as pd\n",
    "import plotly.graph_objects as go\n",
    "\n",
    "# Remove unnecessary spaces from column names\n",
    "df.columns = df.columns.str.strip()\n",
    "\n",
    "# Ensure 'TIME' is in datetime format\n",
    "df['TIME'] = pd.to_datetime(df['TIME'], format='%Y', errors='coerce')\n",
    "\n",
    "# Filter out rows where 'TIME' couldn't be converted to datetime\n",
    "df = df[df['TIME'].notna()]\n",
    "\n",
    "# Exclude specific countries\n",
    "excluded_countries = ['RUS', 'TUR', 'GBR', 'NZL', 'ISR']\n",
    "df = df[~df['LOCATION'].isin(excluded_countries)]\n",
    "\n",
    "# Filter for years between 2005 and 2015\n",
    "df = df[(df['TIME'].dt.year >= 2005) & (df['TIME'].dt.year <= 2015)]\n",
    "\n",
    "# Get unique locations\n",
    "locations = df['LOCATION'].unique()\n",
    "\n",
    "# Initialize the Dash app\n",
    "app = dash.Dash(__name__)\n",
    "\n",
    "# Layout of the app\n",
    "app.layout = html.Div([\n",
    "    html.H1(\"Dynamic Forecast Visualization\"),\n",
    "    html.Div([\n",
    "        html.Label(\"Select Location:\"),\n",
    "        dcc.Dropdown(\n",
    "            id='location-dropdown',\n",
    "            options=[{'label': loc, 'value': loc} for loc in locations],\n",
    "            value=locations[0],  # Default value\n",
    "            clearable=False\n",
    "        )\n",
    "    ]),\n",
    "    html.Div([\n",
    "        html.Label(\"Select Column:\"),\n",
    "        dcc.Dropdown(\n",
    "            id='column-dropdown',\n",
    "            # Exclude 'LOCATION', 'TIME', and 'FLAG_CODES' from the dropdown options\n",
    "            options=[{'label': col, 'value': col} for col in df.columns if col not in ['LOCATION', 'TIME', 'FLAG_CODES']],\n",
    "            value=df.columns[2] if df.columns[2] not in ['LOCATION', 'TIME', 'FLAG_CODES'] else None,  # Default column\n",
    "            clearable=False\n",
    "        )\n",
    "    ]),\n",
    "    dcc.Graph(id='forecast-plot')\n",
    "])\n",
    "\n",
    "# Callback to update the plot based on dropdown selections\n",
    "@app.callback(\n",
    "    Output('forecast-plot', 'figure'),\n",
    "    [Input('location-dropdown', 'value'),\n",
    "     Input('column-dropdown', 'value')]\n",
    ")\n",
    "def update_forecast(location, column):\n",
    "    # Filter data for the selected location and column\n",
    "    country_data = df[df['LOCATION'] == location][['TIME', column]].rename(columns={'TIME': 'ds', column: 'y'})\n",
    "       \n",
    "    # Initialize and fit the Prophet model\n",
    "    model = Prophet()\n",
    "    model.fit(country_data)\n",
    "    \n",
    "    # Create a future DataFrame for forecasting\n",
    "    future = model.make_future_dataframe(periods=2, freq='Y')  # Forecast for 2016, 2017\n",
    "    forecast = model.predict(future)\n",
    "    \n",
    "    # Extract predictions for 2016 and 2017\n",
    "    forecast['year'] = forecast['ds'].dt.year\n",
    "    predictions_2016_2017 = forecast[forecast['year'].isin([2016, 2017])].groupby('year').last()\n",
    "    \n",
    "    # Plot the forecast\n",
    "    fig = go.Figure()\n",
    "    \n",
    "    # Add actual data\n",
    "    fig.add_trace(go.Scatter(\n",
    "        x=country_data['ds'],\n",
    "        y=country_data['y'],\n",
    "        mode='lines+markers',\n",
    "        name=f\"{location} (Actual)\",\n",
    "        line=dict(color='blue')\n",
    "    ))\n",
    "    \n",
    "    # Add forecasted data\n",
    "    fig.add_trace(go.Scatter(\n",
    "        x=forecast['ds'],\n",
    "        y=forecast['yhat'],\n",
    "        mode='lines',\n",
    "        name=\"Forecast\",\n",
    "        line=dict(color='orange')\n",
    "    ))\n",
    "    \n",
    "    # Highlight predictions for 2016 and 2017\n",
    "    if not predictions_2016_2017.empty:\n",
    "        fig.add_trace(go.Scatter(\n",
    "            x=predictions_2016_2017['ds'],\n",
    "            y=predictions_2016_2017['yhat'],\n",
    "            mode='markers',\n",
    "            marker=dict(color=['red', 'green'], size=10),\n",
    "            name=\"Predicted (2016, 2017)\"\n",
    "        ))\n",
    "    \n",
    "    # Add confidence intervals\n",
    "    fig.add_trace(go.Scatter(\n",
    "        x=forecast['ds'],\n",
    "        y=forecast['yhat_upper'],\n",
    "        mode='lines',\n",
    "        line=dict(color='gray', dash='dot'),\n",
    "        name=\"Upper Confidence Interval\"\n",
    "    ))\n",
    "    fig.add_trace(go.Scatter(\n",
    "        x=forecast['ds'],\n",
    "        y=forecast['yhat_lower'],\n",
    "        mode='lines',\n",
    "        line=dict(color='gray', dash='dot'),\n",
    "        name=\"Lower Confidence Interval\"\n",
    "    ))\n",
    "    \n",
    "    # Layout updates\n",
    "    fig.update_layout(\n",
    "        title=f\"Forecast for {location} ({column})\",\n",
    "        xaxis_title=\"Date\",\n",
    "        yaxis_title=column,\n",
    "        legend_title=\"Legend\"\n",
    "    )\n",
    "    \n",
    "    return fig\n",
    "\n",
    "# Run the Dash app\n",
    "if __name__ == '__main__':\n",
    "    app.run_server(debug=True, port=8080)\n"
   ]
  }
 ],
 "metadata": {
  "kernelspec": {
   "display_name": "dsi_participant",
   "language": "python",
   "name": "python3"
  },
  "language_info": {
   "codemirror_mode": {
    "name": "ipython",
    "version": 3
   },
   "file_extension": ".py",
   "mimetype": "text/x-python",
   "name": "python",
   "nbconvert_exporter": "python",
   "pygments_lexer": "ipython3",
   "version": "3.9.15"
  }
 },
 "nbformat": 4,
 "nbformat_minor": 2
}
